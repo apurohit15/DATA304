{
 "cells": [
  {
   "cell_type": "markdown",
   "id": "8a75b269-96bd-462f-aa3a-9576b52ced32",
   "metadata": {},
   "source": [
    "# Assignment 2: Data Types"
   ]
  },
  {
   "cell_type": "markdown",
   "id": "4dcef399-0648-465b-bd8f-8a3564fc06df",
   "metadata": {},
   "source": [
    "## Name: Abhi Purohit"
   ]
  },
  {
   "cell_type": "markdown",
   "id": "a3cc6fe3-c57b-4c0f-a60e-aab51bdb8905",
   "metadata": {},
   "source": [
    "### Read Paragraph Text"
   ]
  },
  {
   "cell_type": "code",
   "execution_count": 182,
   "id": "1c8cf45f-a74e-4d9a-b0e8-b60bb674369d",
   "metadata": {},
   "outputs": [
    {
     "name": "stdout",
     "output_type": "stream",
     "text": [
      "Sometimes, life surprises us with unexpected adventures. On sunny days, people often stroll through parks, chatting joyfully. However, when it rains, umbrellas bloom like colorful mushrooms. At noon, cafés fill with the aroma of coffee! Cats often nap lazily on windowsills, yet indifferent to the world outside. Meanwhile, students, lost in thought, scribble notes quickly. Between classes, laughter echoes in hallways. Words carry weight, but silence speaks volumes. Happiness is found in small, everyday moments. Bright stars dot the night sky, whispering secrets to those who listen closely.\n"
     ]
    }
   ],
   "source": [
    "file_path = \"/Users/abhip/Documents/DATA304/data/assignment_2/paragraph.txt\"\n",
    "with open(file_path, \"r\", encoding=\"utf-8\") as file:\n",
    "    paragraph = file.read()\n",
    "print(paragraph)"
   ]
  },
  {
   "cell_type": "markdown",
   "id": "d18e3d02-9768-41fb-92b2-5aa3b690ef5e",
   "metadata": {},
   "source": [
    "### 1. Split the text into sentences."
   ]
  },
  {
   "cell_type": "code",
   "execution_count": 185,
   "id": "5014562c-e9ac-4e12-ae22-bc13ec208221",
   "metadata": {},
   "outputs": [
    {
     "data": {
      "text/plain": [
       "['Sometimes, life surprises us with unexpected adventures',\n",
       " ' On sunny days, people often stroll through parks, chatting joyfully',\n",
       " ' However, when it rains, umbrellas bloom like colorful mushrooms',\n",
       " ' At noon, cafés fill with the aroma of coffee! Cats often nap lazily on windowsills, yet indifferent to the world outside',\n",
       " ' Meanwhile, students, lost in thought, scribble notes quickly',\n",
       " ' Between classes, laughter echoes in hallways',\n",
       " ' Words carry weight, but silence speaks volumes',\n",
       " ' Happiness is found in small, everyday moments',\n",
       " ' Bright stars dot the night sky, whispering secrets to those who listen closely',\n",
       " '']"
      ]
     },
     "execution_count": 185,
     "metadata": {},
     "output_type": "execute_result"
    }
   ],
   "source": [
    "sentences = paragraph.split(\".\")\n",
    "sentences"
   ]
  },
  {
   "cell_type": "markdown",
   "id": "ffbcb5cf-cf00-4a8a-99cb-aafcaf110839",
   "metadata": {},
   "source": [
    "### Number of Sentences"
   ]
  },
  {
   "cell_type": "code",
   "execution_count": 188,
   "id": "4178b3d0-0128-4cdb-9540-7da34962e229",
   "metadata": {},
   "outputs": [
    {
     "data": {
      "text/plain": [
       "10"
      ]
     },
     "execution_count": 188,
     "metadata": {},
     "output_type": "execute_result"
    }
   ],
   "source": [
    "paragraph = paragraph.replace(\"!\", \".\")\n",
    "num_of_sent = paragraph.count(\".\")\n",
    "num_of_sent"
   ]
  },
  {
   "cell_type": "markdown",
   "id": "9960ed0c-9561-468d-a753-e97d85fd9b07",
   "metadata": {},
   "source": [
    "### 2. Create a list of words (without whitespace or punctuation)"
   ]
  },
  {
   "cell_type": "code",
   "execution_count": 191,
   "id": "7f0878b3-ca5b-4723-be5c-379ee271f03a",
   "metadata": {},
   "outputs": [
    {
     "data": {
      "text/plain": [
       "['Sometimes',\n",
       " 'life',\n",
       " 'surprises',\n",
       " 'us',\n",
       " 'with',\n",
       " 'unexpected',\n",
       " 'adventures',\n",
       " 'On',\n",
       " 'sunny',\n",
       " 'days',\n",
       " 'people',\n",
       " 'often',\n",
       " 'stroll',\n",
       " 'through',\n",
       " 'parks',\n",
       " 'chatting',\n",
       " 'joyfully',\n",
       " 'However',\n",
       " 'when',\n",
       " 'it',\n",
       " 'rains',\n",
       " 'umbrellas',\n",
       " 'bloom',\n",
       " 'like',\n",
       " 'colorful',\n",
       " 'mushrooms',\n",
       " 'At',\n",
       " 'noon',\n",
       " 'cafés',\n",
       " 'fill',\n",
       " 'with',\n",
       " 'the',\n",
       " 'aroma',\n",
       " 'of',\n",
       " 'coffee',\n",
       " 'Cats',\n",
       " 'often',\n",
       " 'nap',\n",
       " 'lazily',\n",
       " 'on',\n",
       " 'windowsills',\n",
       " 'yet',\n",
       " 'indifferent',\n",
       " 'to',\n",
       " 'the',\n",
       " 'world',\n",
       " 'outside',\n",
       " 'Meanwhile',\n",
       " 'students',\n",
       " 'lost',\n",
       " 'in',\n",
       " 'thought',\n",
       " 'scribble',\n",
       " 'notes',\n",
       " 'quickly',\n",
       " 'Between',\n",
       " 'classes',\n",
       " 'laughter',\n",
       " 'echoes',\n",
       " 'in',\n",
       " 'hallways',\n",
       " 'Words',\n",
       " 'carry',\n",
       " 'weight',\n",
       " 'but',\n",
       " 'silence',\n",
       " 'speaks',\n",
       " 'volumes',\n",
       " 'Happiness',\n",
       " 'is',\n",
       " 'found',\n",
       " 'in',\n",
       " 'small',\n",
       " 'everyday',\n",
       " 'moments',\n",
       " 'Bright',\n",
       " 'stars',\n",
       " 'dot',\n",
       " 'the',\n",
       " 'night',\n",
       " 'sky',\n",
       " 'whispering',\n",
       " 'secrets',\n",
       " 'to',\n",
       " 'those',\n",
       " 'who',\n",
       " 'listen',\n",
       " 'closely']"
      ]
     },
     "execution_count": 191,
     "metadata": {},
     "output_type": "execute_result"
    }
   ],
   "source": [
    "words = [word.strip(\".,!\") for word in paragraph.split()]\n",
    "words"
   ]
  },
  {
   "cell_type": "markdown",
   "id": "fe3faf7a-c8d7-42d4-a0f1-c3868804afac",
   "metadata": {},
   "source": [
    "### 3. Create a set of words"
   ]
  },
  {
   "cell_type": "code",
   "execution_count": 194,
   "id": "cbbc96a9-1842-49c4-99ab-c6053c82656f",
   "metadata": {},
   "outputs": [
    {
     "data": {
      "text/plain": [
       "{'At',\n",
       " 'Between',\n",
       " 'Bright',\n",
       " 'Cats',\n",
       " 'Happiness',\n",
       " 'However',\n",
       " 'Meanwhile',\n",
       " 'On',\n",
       " 'Sometimes',\n",
       " 'Words',\n",
       " 'adventures',\n",
       " 'aroma',\n",
       " 'bloom',\n",
       " 'but',\n",
       " 'cafés',\n",
       " 'carry',\n",
       " 'chatting',\n",
       " 'classes',\n",
       " 'closely',\n",
       " 'coffee',\n",
       " 'colorful',\n",
       " 'days',\n",
       " 'dot',\n",
       " 'echoes',\n",
       " 'everyday',\n",
       " 'fill',\n",
       " 'found',\n",
       " 'hallways',\n",
       " 'in',\n",
       " 'indifferent',\n",
       " 'is',\n",
       " 'it',\n",
       " 'joyfully',\n",
       " 'laughter',\n",
       " 'lazily',\n",
       " 'life',\n",
       " 'like',\n",
       " 'listen',\n",
       " 'lost',\n",
       " 'moments',\n",
       " 'mushrooms',\n",
       " 'nap',\n",
       " 'night',\n",
       " 'noon',\n",
       " 'notes',\n",
       " 'of',\n",
       " 'often',\n",
       " 'on',\n",
       " 'outside',\n",
       " 'parks',\n",
       " 'people',\n",
       " 'quickly',\n",
       " 'rains',\n",
       " 'scribble',\n",
       " 'secrets',\n",
       " 'silence',\n",
       " 'sky',\n",
       " 'small',\n",
       " 'speaks',\n",
       " 'stars',\n",
       " 'stroll',\n",
       " 'students',\n",
       " 'sunny',\n",
       " 'surprises',\n",
       " 'the',\n",
       " 'those',\n",
       " 'thought',\n",
       " 'through',\n",
       " 'to',\n",
       " 'umbrellas',\n",
       " 'unexpected',\n",
       " 'us',\n",
       " 'volumes',\n",
       " 'weight',\n",
       " 'when',\n",
       " 'whispering',\n",
       " 'who',\n",
       " 'windowsills',\n",
       " 'with',\n",
       " 'world',\n",
       " 'yet'}"
      ]
     },
     "execution_count": 194,
     "metadata": {},
     "output_type": "execute_result"
    }
   ],
   "source": [
    "set_words = set(words)\n",
    "set_words"
   ]
  },
  {
   "cell_type": "markdown",
   "id": "b1275791-337e-4ed5-b82d-0d960992bf02",
   "metadata": {},
   "source": [
    "### 4. Find the hidden message in the list of words at indexes \n",
    "### [60, 26, 10, 10, 41, 35, 26, 44,48] by taking the first letter of each of these words."
   ]
  },
  {
   "cell_type": "code",
   "execution_count": 197,
   "id": "314ee308-f06f-4cb3-951a-d248f39e5954",
   "metadata": {},
   "outputs": [
    {
     "name": "stdout",
     "output_type": "stream",
     "text": [
      "hAppyCAts\n"
     ]
    }
   ],
   "source": [
    "indexes = [60, 26, 10, 10, 41, 35, 26, 44, 48]\n",
    "message = \"\"\n",
    "for i in indexes:\n",
    "    message += words[i][0]\n",
    "print(message)"
   ]
  },
  {
   "cell_type": "markdown",
   "id": "2c5538cb-0afb-4f25-9b7e-5773a4d5ba9b",
   "metadata": {},
   "source": [
    "## Answers"
   ]
  },
  {
   "cell_type": "code",
   "execution_count": 200,
   "id": "0fd45022-0123-43a8-bd63-ee7423e163cc",
   "metadata": {},
   "outputs": [
    {
     "name": "stdout",
     "output_type": "stream",
     "text": [
      "Number of sentences: 10\n",
      "Unique Word Count: 81\n",
      "Hidden Message: hAppyCAts\n"
     ]
    }
   ],
   "source": [
    "print(\"Number of sentences:\" ,num_of_sent)\n",
    "print(\"Unique Word Count:\" ,len(set_words))\n",
    "print(\"Hidden Message:\", message)"
   ]
  }
 ],
 "metadata": {
  "kernelspec": {
   "display_name": "Python 3 (ipykernel)",
   "language": "python",
   "name": "python3"
  },
  "language_info": {
   "codemirror_mode": {
    "name": "ipython",
    "version": 3
   },
   "file_extension": ".py",
   "mimetype": "text/x-python",
   "name": "python",
   "nbconvert_exporter": "python",
   "pygments_lexer": "ipython3",
   "version": "3.11.4"
  }
 },
 "nbformat": 4,
 "nbformat_minor": 5
}
